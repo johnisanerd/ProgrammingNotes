{
 "cells": [
  {
   "cell_type": "markdown",
   "metadata": {},
   "source": [
    "# Tutorial 1 - Hello World with ML\n",
    "\n",
    "[Tutorial 1 - Hello World with Machine Learning Recipes](https://www.youtube.com/watch?v=cKxRvEZd3Mw)\n",
    "\n",
    "Write Code that Can Tell the Difference Between an Apple and Orange\n",
    "\n",
    "\n",
    "## Debian Installation\n",
    "`pip install -U scikit-learn`\n"
   ]
  },
  {
   "cell_type": "code",
   "execution_count": 3,
   "metadata": {
    "collapsed": true
   },
   "outputs": [],
   "source": [
    "# Test that you have the sklearn library installed.\n",
    "\n",
    "import sklearn\n"
   ]
  },
  {
   "cell_type": "markdown",
   "metadata": {},
   "source": [
    "## Supervised Learning\n",
    "\n",
    "Collect Training Data --> Train Classifier --> Make Predictions\n",
    "\n",
    "For each peice of fruit, we'll collect data.  This will be training data.\n",
    "\n",
    "Data is called \"Features\" and good data makes it easy to discriminate well.  The whole table is our training data.  The more data we have, the better we can discriminate.\n",
    "\n",
    "1.  We get our data.\n",
    "2.  We setup our decision tree or \"classifier\"\n",
    "\n"
   ]
  },
  {
   "cell_type": "code",
   "execution_count": 9,
   "metadata": {},
   "outputs": [
    {
     "name": "stdout",
     "output_type": "stream",
     "text": [
      "[1]\n",
      "[0]\n"
     ]
    }
   ],
   "source": [
    "from sklearn import tree\n",
    "features = [[140,1], [130,1], [150,0], [170,0]]  # Weight in grams;  0 is bumpy, 1 is smooth.\n",
    "labels = [0,0,1,1] #0 is an apple, 1 is an orange.\n",
    "\n",
    "clf = tree.DecisionTreeClassifier()  # Create the classifier.  This is now an empty box of rules.\n",
    "\n",
    "# Learning algorithm is the procedure that creates the rule.  \n",
    "\n",
    "clf = clf.fit(features, labels)\n",
    "\n",
    "print(clf.predict([[160,0]]))  # 150 grams, and bumpy\n",
    "print(clf.predict([[100,1]]))  "
   ]
  },
  {
   "cell_type": "markdown",
   "metadata": {},
   "source": [
    "# Tutorial 2 - Visualize a Decision Tree\n",
    "\n",
    "[Classifying flowers.](https://www.youtube.com/watch?v=tNa99PG8hR8&list=PLOU2XLYxmsIIuiBfYad6rFYQU_jL2ryal&index=2) using a decision tree because . . . it's easy to see and visualize.\n",
    "\n",
    "1. Import Dataset\n",
    "2. Train a classified\n",
    "3. Predict a label for the new flower.\n",
    "4. Visualize the tree.\n"
   ]
  },
  {
   "cell_type": "code",
   "execution_count": 15,
   "metadata": {},
   "outputs": [
    {
     "name": "stdout",
     "output_type": "stream",
     "text": [
      "[0 1 2]\n",
      "[0 1 2]\n",
      "[ 5.1  3.5  1.4  0.2] 0\n",
      "['sepal length (cm)', 'sepal width (cm)', 'petal length (cm)', 'petal width (cm)'] ['setosa' 'versicolor' 'virginica']\n"
     ]
    }
   ],
   "source": [
    "import numpy as np\n",
    "from sklearn.datasets import load_iris\n",
    "from sklearn import tree\n",
    "\n",
    "iris = load_iris()\n",
    "test_idx = [0,50,100]\n",
    "\n",
    "# Training Data\n",
    "train_target = np.delete(iris.target, test_idx)\n",
    "train_data = np.delete(iris.data, test_idx, axis=0)\n",
    "\n",
    "#Testing Data \n",
    "test_target= iris.target[test_idx]\n",
    "test_data = iris.data[test_idx]\n",
    "\n",
    "clf = tree.DecisionTreeClassifier()\n",
    "clf.fit(train_data, train_target)\n",
    "\n",
    "print(test_target)\n",
    "print(clf.predict(test_data))  # We give it the features, get back labels.  Predict labels for new data\n",
    "\n",
    "# Visualization\n",
    "\n",
    "''' \n",
    "from sklearn.externals.six import StringIO\n",
    "import pydot\n",
    "dot_data = StringIO()\n",
    "tree.export_graphviz(clf,\n",
    "                    out_file=dot_data,\n",
    "                    feature_names=iris.feature_names,\n",
    "                    class_names=iris.target_names,\n",
    "                    filled=True,\n",
    "                    rounded=True,\n",
    "                    impurity=False)\n",
    "graph = pydot.graph_from_dot_data(dot_data.getvalue())\n",
    "graph.write_pdf(\"iris.pdf\")\n",
    "'''\n",
    "print(test_data[0], test_target[0])\n",
    "print(iris.feature_names, iris.target_names)"
   ]
  },
  {
   "cell_type": "markdown",
   "metadata": {},
   "source": [
    "# What Makes a Good Feature? - Machine Learning Recipes\n",
    "\n",
    "[Video](https://www.youtube.com/watch?v=N9fDIAflCMY&list=PLOU2XLYxmsIIuiBfYad6rFYQU_jL2ryal&index=3) - we go over what makes a good feature.\n",
    "\n",
    "What makes a good feature?  A good feature in binary applications is a way to easily tell between two things.\n",
    "Dogs Example:  Height vs eye color.  One is useful and the other is not.  \n",
    "\n",
    "Thought Experiment:  If you were a machine trying to figure out what you were looking at, what other things would you want to know?  hair length, speed, weight.  Number of parameters is really an art.  If a feature doesn't correlate, it's useless and can hurt the outcome of the data.  \n",
    "\n",
    "Independent Features:  Want our features to be independent.  For example:  height in inches and height in cm are highly correlated, and might be double counted how important the features are.\n",
    "\n",
    "*Easy to Understand Features:*  The easier to understand, the easier to build a model on.  Simpler relationships are easier to learn.\n"
   ]
  },
  {
   "cell_type": "code",
   "execution_count": 18,
   "metadata": {},
   "outputs": [
    {
     "data": {
      "image/png": "[encoded data removed]",
      "text/plain": [
       "<matplotlib.figure.Figure at 0x181da218080>"
      ]
     },
     "metadata": {},
     "output_type": "display_data"
    }
   ],
   "source": [
    "import numpy as np\n",
    "import matplotlib.pyplot as plt\n",
    "\n",
    "greyhounds = 500\n",
    "labs = 500\n",
    "\n",
    "grey_height = 28 + 4 * np.random.randn(greyhounds)  # Make the height +/- 4 inches\n",
    "lab_height = 24 + 4 * np.random.randn(labs)\n",
    "\n",
    "plt.hist([grey_height, lab_height], stacked=True, color=['r', 'b'])\n",
    "plt.show()"
   ]
  },
  {
   "cell_type": "markdown",
   "metadata": {},
   "source": [
    "# Write a Pipeline\n",
    "\n",
    "[Video](https://www.youtube.com/watch?v=84gqSbLcBFE&list=PLOU2XLYxmsIIuiBfYad6rFYQU_jL2ryal&index=4)\n",
    "\n",
    "Imagine a spam classifier.  One approach is to partition our dataset into two groups:  one for training and one for testing to see how it works.\n",
    "\n",
    "In the below example, f(x) = y).  Features are x, and the labels are y.\n",
    "\n",
    "While there are many types of classifiers, at a high level they have the same interface.  In ML we don't write the algorithm, but we let the classifier write it from a model of data."
   ]
  },
  {
   "cell_type": "code",
   "execution_count": 22,
   "metadata": {},
   "outputs": [
    {
     "name": "stdout",
     "output_type": "stream",
     "text": [
      "[1 2 0 2 0 0 1 1 0 0 2 1 1 2 1 2 2 2 1 0 1 1 1 0 1 1 0 1 0 1 2 0 0 1 0 0 2\n",
      " 0 2 1 2 1 1 0 1 2 2 2 1 2 0 0 0 1 2 0 1 2 2 1 0 1 0 1 0 1 0 1 2 0 2 1 2 2\n",
      " 2]\n",
      "0.906666666667\n",
      "[1 1 0 2 0 0 1 1 0 0 2 1 1 2 1 2 2 2 1 0 1 1 1 0 1 1 0 1 0 1 2 0 0 1 0 0 2\n",
      " 0 2 2 2 1 1 0 1 2 2 2 1 2 0 0 0 1 2 0 1 2 2 1 0 1 0 1 0 1 0 1 2 0 1 1 2 2\n",
      " 2]\n",
      "0.92\n"
     ]
    }
   ],
   "source": [
    "# import a dataset\n",
    "from sklearn import datasets\n",
    "iris = datasets.load_iris()\n",
    "\n",
    "X = iris.data   # Feature\n",
    "y = iris.target # Label\n",
    "\n",
    "from sklearn.cross_validation import train_test_split\n",
    "X_train, X_test, y_train, y_test = train_test_split(X, y, test_size = 0.5)  # Test size divides up the data (50% test and 50% train)\n",
    "\n",
    "from sklearn import tree\n",
    "my_classifier = tree.DecisionTreeClassifier()   # We're using a Decision Tree Classifier\n",
    "\n",
    "my_classifier.fit(X_train, y_train)             # We use fit with our training data to make the classifier\n",
    "\n",
    "predictions = my_classifier.predict(X_test)     # We use the classifier on the test data.\n",
    "\n",
    "print(predictions)\n",
    "\n",
    "from sklearn.metrics import accuracy_score\n",
    "print(accuracy_score(y_test, predictions))       # Prints the percent accuracy!\n",
    "\n",
    "##\n",
    "#  Now use a KNeighbors classfier instead of decision tree.\n",
    "##\n",
    "\n",
    "from sklearn.neighbors import KNeighborsClassifier\n",
    "my_classifier = KNeighborsClassifier()          # Now we'll use our KNeighbors classifier\n",
    "\n",
    "my_classifier.fit(X_train, y_train)             # We use fit with our training data to make the classifier\n",
    "predictions = my_classifier.predict(X_test)     # We use the classifier on the test data.\n",
    "\n",
    "from sklearn.metrics import accuracy_score\n",
    "print(accuracy_score(y_test, predictions))       # Prints the percent accuracy!\n"
   ]
  },
  {
   "cell_type": "markdown",
   "metadata": {},
   "source": [
    "# Write our First Classifier\n",
    "\n",
    "[Video](https://www.youtube.com/watch?v=AoeEHqVSNOw&index=5&list=PLOU2XLYxmsIIuiBfYad6rFYQU_jL2ryal)\n",
    "\n",
    "Previous we imported the library, but in this we'll write our own classifier. \n",
    "\n",
    "First we make a class to cover this. Measure the euclidean distance between points. Euclidean distance measure around as many dimensions as we can add."
   ]
  },
  {
   "cell_type": "code",
   "execution_count": 29,
   "metadata": {},
   "outputs": [
    {
     "name": "stdout",
     "output_type": "stream",
     "text": [
      "0.973333333333\n"
     ]
    }
   ],
   "source": [
    "import random\n",
    "from scipy.spatial import distance\n",
    "\n",
    "# Measure the euclidean distance. \n",
    "def euc(a,b):\n",
    "    return distance.euclidean(a,b)\n",
    "\n",
    "# This classifier will work based on the euclidean distance, and try to find a short distance.\n",
    "class ScrappyKNN():\n",
    "    def fit(self, X_train, y_train):\n",
    "        self.X_train = X_train\n",
    "        self.y_train = y_train\n",
    "    def predict(self, X_test):\n",
    "        predictions = []\n",
    "        for row in X_test:\n",
    "            label = self.closest(row)  # Implement the closesest neighbor.\n",
    "            predictions.append(label)\n",
    "        return predictions\n",
    "    def closest(self, row):\n",
    "        best_dist = euc(row, self.X_train[0])  # Calculate the first test point.\n",
    "        best_index = 0\n",
    "        for i in range(1, len(self.X_train)):  # ITerate over all the other training points and update when we find somethign closer.\n",
    "            dist = euc(row, self.X_train[i])\n",
    "            if dist < best_dist:\n",
    "                best_dist = dist\n",
    "                best_index = i\n",
    "        return self.y_train[best_index]\n",
    "            \n",
    "# import a dataset\n",
    "from sklearn import datasets\n",
    "iris = datasets.load_iris()\n",
    "\n",
    "X = iris.data   # Feature\n",
    "y = iris.target # Label\n",
    "\n",
    "from sklearn.cross_validation import train_test_split\n",
    "X_train, X_test, y_train, y_test = train_test_split(X, y, test_size = 0.5)  # Test size divides up the data (50% test and 50% train)\n",
    "\n",
    "##\n",
    "#  Now use a KNeighbors classfier instead of decision tree.\n",
    "##\n",
    "\n",
    "#  from sklearn.neighbors import KNeighborsClassifier\n",
    "my_classifier = ScrappyKNN()\n",
    "\n",
    "# my_classifier = KNeighborsClassifier()          # Now we'll use our KNeighbors classifier\n",
    "\n",
    "my_classifier.fit(X_train, y_train)             # We use fit with our training data to make the classifier\n",
    "predictions = my_classifier.predict(X_test)     # We use the classifier on the test data.\n",
    "\n",
    "from sklearn.metrics import accuracy_score\n",
    "print(accuracy_score(y_test, predictions))       # Prints the percent accuracy!\n"
   ]
  },
  {
   "cell_type": "code",
   "execution_count": null,
   "metadata": {
    "collapsed": true
   },
   "outputs": [],
   "source": []
  },
  {
   "cell_type": "code",
   "execution_count": null,
   "metadata": {
    "collapsed": true
   },
   "outputs": [],
   "source": []
  },
  {
   "cell_type": "code",
   "execution_count": null,
   "metadata": {
    "collapsed": true
   },
   "outputs": [],
   "source": []
  }
 ],
 "metadata": {
  "kernelspec": {
   "display_name": "Python 3",
   "language": "python",
   "name": "python3"
  },
  "language_info": {
   "codemirror_mode": {
    "name": "ipython",
    "version": 3
   },
   "file_extension": ".py",
   "mimetype": "text/x-python",
   "name": "python",
   "nbconvert_exporter": "python",
   "pygments_lexer": "ipython3",
   "version": "3.6.3"
  }
 },
 "nbformat": 4,
 "nbformat_minor": 2
}
