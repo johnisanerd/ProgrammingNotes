{
 "cells": [
  {
   "cell_type": "markdown",
   "metadata": {},
   "source": [
    "# Math"
   ]
  },
  {
   "cell_type": "code",
   "execution_count": 3,
   "metadata": {},
   "outputs": [
    {
     "name": "stdout",
     "output_type": "stream",
     "text": [
      "Exponent of 2^24\n"
     ]
    }
   ],
   "source": [
    "# Exponent in Python is **\n",
    "\n",
    "print(\"Exponent of 2^2 is \" + str(2**2))"
   ]
  },
  {
   "cell_type": "markdown",
   "metadata": {},
   "source": [
    "# Operators\n",
    "## Booleans \n",
    "Booleans are evaluated in an order:\n",
    "* `not` is evaluated first\n",
    "* `and` is evaluated second\n",
    "* `or` is evaluated last\n",
    "\n",
    "## Iterators\n",
    "    iterative operator = count+=1"
   ]
  },
  {
   "cell_type": "code",
   "execution_count": 4,
   "metadata": {},
   "outputs": [
    {
     "name": "stdout",
     "output_type": "stream",
     "text": [
      "1\n"
     ]
    }
   ],
   "source": [
    "count = 0\n",
    "count =+1 \n",
    "print(count)"
   ]
  },
  {
   "cell_type": "markdown",
   "metadata": {},
   "source": [
    "# Strings\n",
    "String operators, remember \".isalpha() \" - Tests if a string is alphanumeric"
   ]
  },
  {
   "cell_type": "code",
   "execution_count": 7,
   "metadata": {},
   "outputs": [
    {
     "name": "stdout",
     "output_type": "stream",
     "text": [
      "True\n",
      "False\n"
     ]
    }
   ],
   "source": [
    "test_string1 = \"John\"\n",
    "test_string2 = \"John%%\"\n",
    "print(test_string1.isalpha())\n",
    "print(test_string2.isalpha())"
   ]
  },
  {
   "cell_type": "markdown",
   "metadata": {},
   "source": [
    "# Definitions and Libraries\n",
    " You can import libraries without having to make them subs (using dots):\n",
    " - Import a single function from a library `from math import sqrt`\n",
    " - Import all the functions from a library `from math import *`\n",
    " - List all the modules in a library:\n",
    "        `import math # Imports the math module\n",
    "         everything = dir(math) # Sets everything to a list of things from math\n",
    "         print everything # Prints 'em all!\n",
    "         `\n",
    "\n",
    "Use Multiple Arguments in a function, using the \"*\" in there:\n",
    "`\n",
    "def biggest_number(*args):\n",
    "     print max(args)\n",
    "     return max(args)\n",
    "biggest_number(-10, -5, 5, 10)\n",
    "`\n",
    "     \n",
    "Get Types:  \n",
    "     `type()` function returns the typeof the data it receives as an argument\n"
   ]
  },
  {
   "cell_type": "markdown",
   "metadata": {},
   "source": [
    "# Lists\n",
    "* `len(list)` - Returns the length of a list.\n",
    "* `list[1:3]` - Returns a slice or subsection of the list.  This prints out positions 1, and 2 of the list.\n",
    "* `my_list[3:]`  - # Grabs the fourth through last items\n",
    "* `.insert(posn, value)` - inserts item at posn.\n",
    "* `.sort()` - Sorts the list into alphabetical or number order.\n",
    "* `.remove(\"item\")` - Removes something from a list.\n",
    "\n",
    "Using this in a for loop:  \n",
    "`          \n",
    "for number in my_list:\n",
    "    print number*2\n",
    "`\n",
    "\n",
    "* `n.pop(index)` = removes an item at index from the list and returns it.\n",
    "* `n.remove(item)` - Removes an item if it finds it.\n",
    "* `del(n[1])` - removes an item, but doesn't return it.\n",
    "\n",
    "* `range(stop), range(start, stop), range(start, stop, step)` - Creates a list of numbers from start to stop with step.\n",
    "\n",
    "Iterate through a list . . . allows you to modify the list\n",
    "`\n",
    "for i in range(len(list)):\n",
    "    print list[i]\n",
    "`\n",
    "\n",
    "Lists can be joined using \"+\"  "
   ]
  },
  {
   "cell_type": "code",
   "execution_count": 8,
   "metadata": {},
   "outputs": [
    {
     "name": "stdout",
     "output_type": "stream",
     "text": [
      "[1, 2, 3, 4]\n"
     ]
    }
   ],
   "source": [
    "a = [1,2] \n",
    "b=[3,4] \n",
    "print(a+b)"
   ]
  },
  {
   "cell_type": "markdown",
   "metadata": {},
   "source": [
    "# Dictionaries\n",
    "\n",
    "A dictionary is similar to a list, but you access values by looking up a key instead of an index. A key can be any string or number. \n",
    "\n",
    "mutable: means they can be changed after they are created.\n",
    "\n",
    "`del dict_name[keyname]` - Removes an element of a dictionary.\n"
   ]
  },
  {
   "cell_type": "markdown",
   "metadata": {},
   "source": [
    "# User Input\n",
    "`input(\"String: \")`"
   ]
  },
  {
   "cell_type": "code",
   "execution_count": 11,
   "metadata": {},
   "outputs": [
    {
     "name": "stdout",
     "output_type": "stream",
     "text": [
      "String: asdfasdf\n",
      "Your String: asdfasdf\n"
     ]
    }
   ],
   "source": [
    "instring = input(\"String: \")\n",
    "int(\"Your String: \" + instring)"
   ]
  },
  {
   "cell_type": "markdown",
   "metadata": {},
   "source": [
    "# For Loops"
   ]
  },
  {
   "cell_type": "code",
   "execution_count": 13,
   "metadata": {},
   "outputs": [
    {
     "name": "stdout",
     "output_type": "stream",
     "text": [
      "bar\n"
     ]
    }
   ],
   "source": [
    "# Loop through a dictionary\n",
    "d = {\"foo\" : \"bar\"}\n",
    "for key in d:\n",
    "  print(d[key]) # prints \"bar\""
   ]
  },
  {
   "cell_type": "markdown",
   "metadata": {},
   "source": [
    "`zip` will create pairs of elements when passed two lists, and will stop at the end of the shorter list.\n",
    "`else` statement is executed after the `for`, but only if the for ends normally—that is, not with a break"
   ]
  }
 ],
 "metadata": {
  "kernelspec": {
   "display_name": "Python 3",
   "language": "python",
   "name": "python3"
  },
  "language_info": {
   "codemirror_mode": {
    "name": "ipython",
    "version": 3
   },
   "file_extension": ".py",
   "mimetype": "text/x-python",
   "name": "python",
   "nbconvert_exporter": "python",
   "pygments_lexer": "ipython3",
   "version": "3.6.3"
  }
 },
 "nbformat": 4,
 "nbformat_minor": 2
}
