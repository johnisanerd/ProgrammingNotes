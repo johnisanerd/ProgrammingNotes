{
 "cells": [
  {
   "cell_type": "markdown",
   "metadata": {},
   "source": [
    "# Math"
   ]
  },
  {
   "cell_type": "code",
   "execution_count": 3,
   "metadata": {},
   "outputs": [
    {
     "name": "stdout",
     "output_type": "stream",
     "text": [
      "Exponent of 2^24\n"
     ]
    }
   ],
   "source": [
    "# Exponent in Python is **\n",
    "\n",
    "print(\"Exponent of 2^2 is \" + str(2**2))"
   ]
  },
  {
   "cell_type": "markdown",
   "metadata": {},
   "source": [
    "# Operators\n",
    "## Booleans \n",
    "Booleans are evaluated in an order:\n",
    "* `not` is evaluated first\n",
    "* `and` is evaluated second\n",
    "* `or` is evaluated last\n",
    "\n",
    "## Iterators\n",
    "    iterative operator = count+=1"
   ]
  },
  {
   "cell_type": "code",
   "execution_count": 4,
   "metadata": {},
   "outputs": [
    {
     "name": "stdout",
     "output_type": "stream",
     "text": [
      "1\n"
     ]
    }
   ],
   "source": [
    "count = 0\n",
    "count =+1 \n",
    "print(count)"
   ]
  },
  {
   "cell_type": "markdown",
   "metadata": {},
   "source": [
    "# Strings\n",
    "String operators, remember \".isalpha() \" - Tests if a string is alphanumeric"
   ]
  },
  {
   "cell_type": "code",
   "execution_count": 7,
   "metadata": {},
   "outputs": [
    {
     "name": "stdout",
     "output_type": "stream",
     "text": [
      "True\n",
      "False\n"
     ]
    }
   ],
   "source": [
    "test_string1 = \"John\"\n",
    "test_string2 = \"John%%\"\n",
    "print(test_string1.isalpha())\n",
    "print(test_string2.isalpha())"
   ]
  },
  {
   "cell_type": "markdown",
   "metadata": {},
   "source": [
    "# Definitions and Libraries\n",
    " You can import libraries without having to make them subs (using dots):\n",
    " - Import a single function from a library `from math import sqrt`\n",
    " - Import all the functions from a library `from math import *`\n",
    " - List all the modules in a library:\n",
    "        `import math # Imports the math module\n",
    "         everything = dir(math) # Sets everything to a list of things from math\n",
    "         print everything # Prints 'em all!\n",
    "         `\n",
    "\n",
    "Use Multiple Arguments in a function, using the \"*\" in there:\n",
    "`\n",
    "def biggest_number(*args):\n",
    "     print max(args)\n",
    "     return max(args)\n",
    "biggest_number(-10, -5, 5, 10)\n",
    "`\n",
    "     \n",
    "Get Types:  \n",
    "     `type()` function returns the typeof the data it receives as an argument\n"
   ]
  },
  {
   "cell_type": "markdown",
   "metadata": {},
   "source": [
    "# Lists\n",
    "* `len(list)` - Returns the length of a list.\n",
    "* `list[1:3]` - Returns a slice or subsection of the list.  This prints out positions 1, and 2 of the list.\n",
    "* `my_list[3:]`  - # Grabs the fourth through last items\n",
    "* `.insert(posn, value)` - inserts item at posn.\n",
    "* `list.append(elem)` - adds an item on at the end.\n",
    "* `.sort()` - Sorts the list into alphabetical or number order.\n",
    "* `.remove(\"item\")` - Removes something from a list.\n",
    "\n",
    "Using this in a for loop:  \n",
    "`          \n",
    "for number in my_list:\n",
    "    print number*2\n",
    "`\n",
    "\n",
    "* `n.pop(index)` = removes an item at index from the list and returns it.\n",
    "* `n.remove(item)` - Removes an item if it finds it.\n",
    "* `del(n[1])` - removes an item, but doesn't return it.\n",
    "\n",
    "* `range(stop), range(start, stop), range(start, stop, step)` - Creates a list of numbers from start to stop with step.\n",
    "\n",
    "Iterate through a list . . . allows you to modify the list\n",
    "`\n",
    "for i in range(len(list)):\n",
    "    print list[i]\n",
    "`\n",
    "\n",
    "Lists can be joined using \"+\"  "
   ]
  },
  {
   "cell_type": "code",
   "execution_count": 8,
   "metadata": {
    "scrolled": true
   },
   "outputs": [
    {
     "name": "stdout",
     "output_type": "stream",
     "text": [
      "[1, 2, 3, 4]\n"
     ]
    }
   ],
   "source": [
    "a = [1,2] \n",
    "b=[3,4] \n",
    "print(a+b)"
   ]
  },
  {
   "cell_type": "markdown",
   "metadata": {},
   "source": [
    "Check if a value exists in a list with `in`:"
   ]
  },
  {
   "cell_type": "code",
   "execution_count": 14,
   "metadata": {},
   "outputs": [
    {
     "data": {
      "text/plain": [
       "True"
      ]
     },
     "execution_count": 14,
     "metadata": {},
     "output_type": "execute_result"
    }
   ],
   "source": [
    "3 in [1, 2, 3]"
   ]
  },
  {
   "cell_type": "markdown",
   "metadata": {},
   "source": [
    " List comprehensions are a powerful way to generate lists using the for/in and if keywords we've learned.  We can generate a list automatically using the logic below:"
   ]
  },
  {
   "cell_type": "code",
   "execution_count": 20,
   "metadata": {},
   "outputs": [
    {
     "name": "stdout",
     "output_type": "stream",
     "text": [
      "[0, 2, 4, 6, 8, 10, 12, 14, 16, 18, 20, 22, 24, 26, 28, 30, 32, 34, 36, 38, 40, 42, 44, 46, 48, 50]\n"
     ]
    }
   ],
   "source": [
    "evens_to_50 = [i for i in range(51) if i % 2 == 0]\n",
    "print(evens_to_50)"
   ]
  },
  {
   "cell_type": "markdown",
   "metadata": {},
   "source": [
    "# Dictionaries\n",
    "\n",
    "A dictionary is similar to a list, but you access values by looking up a key instead of an index. A key can be any string or number. \n",
    "\n",
    "mutable: means they can be changed after they are created.\n",
    "\n",
    "`del dict_name[keyname]` - Removes an element of a dictionary.\n"
   ]
  },
  {
   "cell_type": "code",
   "execution_count": 19,
   "metadata": {},
   "outputs": [
    {
     "name": "stdout",
     "output_type": "stream",
     "text": [
      "dict_items([('Name', 'Guido'), ('Age', 56), ('BDFL', True)])\n",
      "dict_keys(['Name', 'Age', 'BDFL'])\n",
      "dict_values(['Guido', 56, True])\n",
      "Name Guido\n",
      "Age 56\n",
      "BDFL True\n"
     ]
    }
   ],
   "source": [
    "d = {\n",
    "  \"Name\": \"Guido\",\n",
    "  \"Age\": 56,\n",
    "  \"BDFL\": True\n",
    "}\n",
    "print(d.items())\n",
    "print(d.keys())\n",
    "print(d.values())\n",
    "\n",
    "for key in d:\n",
    "  print(key, d[key],)\n"
   ]
  },
  {
   "cell_type": "markdown",
   "metadata": {},
   "source": [
    "The `.keys()` method returns a list of the dictionary's keys, and\n",
    "The `.values()` method returns a list of the dictionary's values."
   ]
  },
  {
   "cell_type": "markdown",
   "metadata": {},
   "source": [
    "# User Input\n",
    "`input(\"String: \")`"
   ]
  },
  {
   "cell_type": "code",
   "execution_count": 11,
   "metadata": {},
   "outputs": [
    {
     "name": "stdout",
     "output_type": "stream",
     "text": [
      "String: asdfasdf\n",
      "Your String: asdfasdf\n"
     ]
    }
   ],
   "source": [
    "instring = input(\"String: \")\n",
    "int(\"Your String: \" + instring)"
   ]
  },
  {
   "cell_type": "markdown",
   "metadata": {},
   "source": [
    "# For Loops"
   ]
  },
  {
   "cell_type": "code",
   "execution_count": 13,
   "metadata": {},
   "outputs": [
    {
     "name": "stdout",
     "output_type": "stream",
     "text": [
      "bar\n"
     ]
    }
   ],
   "source": [
    "# Loop through a dictionary\n",
    "d = {\"foo\" : \"bar\"}\n",
    "for key in d:\n",
    "  print(d[key]) # prints \"bar\""
   ]
  },
  {
   "cell_type": "markdown",
   "metadata": {},
   "source": [
    "`zip` will create pairs of elements when passed two lists, and will stop at the end of the shorter list.\n",
    "`else` statement is executed after the `for`, but only if the for ends normally—that is, not with a break."
   ]
  },
  {
   "cell_type": "markdown",
   "metadata": {
    "collapsed": true
   },
   "source": [
    "# Lists \n",
    "## List Comprehension\n",
    "\n",
    "Create a list of numbers that are doubled and evenly divisible by three:"
   ]
  },
  {
   "cell_type": "code",
   "execution_count": 2,
   "metadata": {},
   "outputs": [
    {
     "name": "stdout",
     "output_type": "stream",
     "text": [
      "[6]\n"
     ]
    }
   ],
   "source": [
    "doubles_by_3 = [x * 2 for x in range(1, 6) if (x * 2) % 3 == 0]\n",
    "print(doubles_by_3)"
   ]
  },
  {
   "cell_type": "markdown",
   "metadata": {},
   "source": [
    "## List Slicing\n",
    "\n",
    "The syntax looks like this:\n",
    "\n",
    "`[start:end:stride]`\n",
    "Where start describes where the slice starts (inclusive), end is where it ends (exclusive), and stride describes the space between items in the sliced list. For example, a stride of 2 would select every other item from the original list to place in the sliced list.\n",
    "\n",
    "* The default starting index is 0.\n",
    "* The default ending index is the end of the list.\n",
    "* The default stride is 1.\n",
    "\n",
    "You can go backwards through a list with a negative stride."
   ]
  },
  {
   "cell_type": "code",
   "execution_count": 4,
   "metadata": {},
   "outputs": [
    {
     "name": "stdout",
     "output_type": "stream",
     "text": [
      "['D', 'E']\n",
      "['A', 'B']\n",
      "['A', 'C', 'E']\n",
      "['E', 'D', 'C', 'B', 'A']\n"
     ]
    }
   ],
   "source": [
    "to_five = ['A', 'B', 'C', 'D', 'E']\n",
    "\n",
    "print(to_five[3:])\n",
    "print( to_five[:2])\n",
    "print(to_five[::2])\n",
    "print(to_five[::-1])"
   ]
  },
  {
   "cell_type": "markdown",
   "metadata": {},
   "source": [
    "# Lambda Functions\n",
    "One of the more powerful aspects of Python is that it allows for a style of programming called functional programming, which means that you're allowed to pass functions around just as if they were variables or values. Sometimes we take this for granted, but not all languages allow this!\n",
    "\n",
    "`lambda x: x % 3 == 0`\n",
    "\n",
    "is the same as \n",
    "\n",
    "`def by_three(x):\n",
    "  return x % 3 == 0`"
   ]
  },
  {
   "cell_type": "code",
   "execution_count": 6,
   "metadata": {},
   "outputs": [
    {
     "name": "stdout",
     "output_type": "stream",
     "text": [
      "<filter object at 0x000001DE9DEC4780>\n"
     ]
    }
   ],
   "source": [
    "my_list = range(16)\n",
    "print(str(filter(lambda x: x % 3 == 0, my_list)))"
   ]
  },
  {
   "cell_type": "markdown",
   "metadata": {},
   "source": [
    "# Bitwise operations\n"
   ]
  },
  {
   "cell_type": "code",
   "execution_count": 7,
   "metadata": {},
   "outputs": [
    {
     "name": "stdout",
     "output_type": "stream",
     "text": [
      "0\n",
      "10\n",
      "0\n",
      "13\n",
      "38\n",
      "-89\n"
     ]
    }
   ],
   "source": [
    "print(5 >> 4)  # Right Shift\n",
    "print(5 << 1)  # Left Shift\n",
    "print(8 & 5)   # Bitwise AND\n",
    "print(9 | 4)   # Bitwise OR\n",
    "print(12 ^ 42) # Bitwise XOR\n",
    "print(~88)     # Bitwise NOT"
   ]
  },
  {
   "cell_type": "code",
   "execution_count": 11,
   "metadata": {},
   "outputs": [
    {
     "name": "stdout",
     "output_type": "stream",
     "text": [
      "1\n",
      "2\n",
      "3\n",
      "4\n",
      "5\n",
      "6\n",
      "7\n",
      "0b1000\n"
     ]
    }
   ],
   "source": [
    "# Base 2 Numbers\n",
    "print(0b1,)    #1\n",
    "print(0b10,)   #2\n",
    "print(0b11,)   #3\n",
    "print(0b100,)  #4\n",
    "print(0b101,)  #5\n",
    "print(0b110,)  #6\n",
    "print(0b111)   #7\n",
    "\n",
    "print(bin(8))\n",
    "# Print out the decimal equivalent of the binary 11001001.\n",
    "print(int(\"11001001\",2))  # The second number specifies the base.  This case, base 2"
   ]
  },
  {
   "cell_type": "markdown",
   "metadata": {},
   "source": [
    "The XOR (^) or exclusive or operator compares two numbers on a bit level and returns a number where the bits of that number are turned on if either of the corresponding bits of the two numbers are 1, but not both."
   ]
  },
  {
   "cell_type": "markdown",
   "metadata": {},
   "source": [
    "Check if a partcular bit is on.\n",
    "  "
   ]
  },
  {
   "cell_type": "code",
   "execution_count": 12,
   "metadata": {},
   "outputs": [
    {
     "name": "stdout",
     "output_type": "stream",
     "text": [
      "on\n"
     ]
    }
   ],
   "source": [
    "def check_bit4(input):\n",
    "  mask = 0b1000\n",
    "  if input & mask > 0:\n",
    "    return \"on\"\n",
    "  else:\n",
    "  \treturn \"off\"\n",
    "  \n",
    "print(check_bit4(0b111111))"
   ]
  },
  {
   "cell_type": "markdown",
   "metadata": {},
   "source": [
    "Setting a particular bit: use a mask."
   ]
  },
  {
   "cell_type": "code",
   "execution_count": 14,
   "metadata": {},
   "outputs": [
    {
     "name": "stdout",
     "output_type": "stream",
     "text": [
      "0b10111111\n"
     ]
    }
   ],
   "source": [
    "a = 0b10111011\n",
    "mask = 0b100  # Set the third bit from the rhs\n",
    "desired = a | mask\n",
    "print(bin(desired))"
   ]
  },
  {
   "cell_type": "markdown",
   "metadata": {
    "collapsed": true
   },
   "source": [
    "# Classes\n",
    "\n",
    "A class is just a way of organizing and producing objects with similar attributes and methods.\n",
    "\n",
    "`__init__()` - This function is required for classes, and it's used to initialize the objects it creates. `__init__()` always takes at least one argument, self, that refers to the object being created. You can think of `__init__()` as the function that \"boots up\" each object the class creates.\n",
    "\n",
    "It's overwhelmingly common to use `self` as the first parameter in `__init__()`, so you should do this so that other people will understand your code.\n",
    "\n",
    "If you add additional arguments—for instance, a name and age for your animal—setting each of those equal to self.name and self.age in the body of __init__()\n",
    "\n",
    "## Scope\n",
    "Another important aspect of Python classes is scope. The scope of a variable is the context in which it's visible to the program.\n",
    "\n",
    "When dealing with classes, you can have variables that are available everywhere (global variables), variables that are only available to members of a certain class (member variables), and variables that are only available to particular instances of a class (instance variables).\n",
    "\n",
    "## Inheritance\n",
    "\n",
    "Inheritance is the process by which one class takes on the attributes and methods of another.  A Panda is a bear; a panda class could inherit from a Bear class.  A Toyota should not inherit from a Tractor class.    "
   ]
  },
  {
   "cell_type": "code",
   "execution_count": 3,
   "metadata": {},
   "outputs": [
    {
     "ename": "NameError",
     "evalue": "name 'BaseClass' is not defined",
     "output_type": "error",
     "traceback": [
      "\u001b[1;31m---------------------------------------------------------------------------\u001b[0m",
      "\u001b[1;31mNameError\u001b[0m                                 Traceback (most recent call last)",
      "\u001b[1;32m<ipython-input-3-22ac11a92dc2>\u001b[0m in \u001b[0;36m<module>\u001b[1;34m()\u001b[0m\n\u001b[1;32m----> 1\u001b[1;33m \u001b[1;32mclass\u001b[0m \u001b[0mDerivedClass\u001b[0m\u001b[1;33m(\u001b[0m\u001b[0mBaseClass\u001b[0m\u001b[1;33m)\u001b[0m\u001b[1;33m:\u001b[0m\u001b[1;33m\u001b[0m\u001b[0m\n\u001b[0m\u001b[0;32m      2\u001b[0m   \u001b[1;32mpass\u001b[0m\u001b[1;33m\u001b[0m\u001b[0m\n",
      "\u001b[1;31mNameError\u001b[0m: name 'BaseClass' is not defined"
     ]
    }
   ],
   "source": [
    "class DerivedClass(BaseClass):\n",
    "  pass"
   ]
  },
  {
   "cell_type": "code",
   "execution_count": 4,
   "metadata": {},
   "outputs": [
    {
     "name": "stdout",
     "output_type": "stream",
     "text": [
      "200.0\n"
     ]
    }
   ],
   "source": [
    "class Employee(object):\n",
    "  \"\"\"Models real-life employees!\"\"\"\n",
    "  def __init__(self, employee_name):\n",
    "    self.employee_name = employee_name\n",
    "\n",
    "  def calculate_wage(self, hours):\n",
    "    self.hours = hours\n",
    "    return hours * 20.00\n",
    "\n",
    "# Add your code below!\n",
    "class PartTimeEmployee(Employee):\n",
    "  def __init__(self, hours):\n",
    "    self.hours = hours\n",
    "  def calculate_wage(self, hours):\n",
    "  \treturn hours*12.00\n",
    "  def full_time_wage(self, hours):\n",
    "    return super(PartTimeEmployee,  self).calculate_wage(hours)\n",
    "  \n",
    "milton = PartTimeEmployee(\"milton\")\n",
    "\n",
    "print(milton.full_time_wage(10))"
   ]
  },
  {
   "cell_type": "code",
   "execution_count": null,
   "metadata": {
    "collapsed": true
   },
   "outputs": [],
   "source": []
  }
 ],
 "metadata": {
  "kernelspec": {
   "display_name": "Python 3",
   "language": "python",
   "name": "python3"
  },
  "language_info": {
   "codemirror_mode": {
    "name": "ipython",
    "version": 3
   },
   "file_extension": ".py",
   "mimetype": "text/x-python",
   "name": "python",
   "nbconvert_exporter": "python",
   "pygments_lexer": "ipython3",
   "version": "3.6.3"
  }
 },
 "nbformat": 4,
 "nbformat_minor": 2
}
