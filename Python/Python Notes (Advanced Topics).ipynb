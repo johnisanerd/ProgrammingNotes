{
 "cells": [
  {
   "cell_type": "code",
   "execution_count": null,
   "metadata": {
    "collapsed": true
   },
   "outputs": [],
   "source": []
  },
  {
   "cell_type": "markdown",
   "metadata": {},
   "source": [
    "# Type \n",
    "You can get type(variable) and it prints out the type."
   ]
  },
  {
   "cell_type": "code",
   "execution_count": 32,
   "metadata": {},
   "outputs": [
    {
     "data": {
      "text/plain": [
       "str"
      ]
     },
     "execution_count": 32,
     "metadata": {},
     "output_type": "execute_result"
    }
   ],
   "source": [
    "variable=\"yolo\"\n",
    "type(variable)"
   ]
  },
  {
   "cell_type": "markdown",
   "metadata": {},
   "source": [
    "## Namespace and Scope\n",
    "\n",
    "Namespace - a way to keep variables from being confused.  There are in python a few namespaces:\n",
    "\n",
    "\t* global names of a module\n",
    "\t* local names in a function or method invocation\n",
    "\t* built-in names: this namespace contains built-in functions (e.g. abs(), cmp(), ...) and built-in exception names\n",
    "\n",
    "**Scope** - the region of a program that a namespace can be accessed.  \n"
   ]
  },
  {
   "cell_type": "markdown",
   "metadata": {},
   "source": [
    "## Recursion\n",
    "Recursion is a way that a function can call itself back on itself, in its body.  \n",
    "A recursive function terminates, if with every recursive call the solution of the problem is downsized and moves towards a base case. A base case is a case, where the problem can be solved without further recursion. A recursion can lead to an infinite loop, if the base case is not met in the calls.\n",
    "\n",
    "**Example:** Factorial calculation using recursion."
   ]
  },
  {
   "cell_type": "code",
   "execution_count": 33,
   "metadata": {
    "collapsed": true
   },
   "outputs": [],
   "source": [
    "def factorial(n):\n",
    "    if n == 1:\n",
    "        return 1\n",
    "    else:\n",
    "        return n * factorial(n-1)\n"
   ]
  },
  {
   "cell_type": "markdown",
   "metadata": {},
   "source": [
    "## Command Line Arguments\n",
    "\n",
    "* You can write python program commands that can be called from shell with arguments (separated by spaces afterwards).  \n",
    "* You have to import ‘sys’\n",
    "* The name of the script is included in this list sys.argv[0]. sys.argv[1] contains the first parameter, sys.argv[2] the second and so on."
   ]
  },
  {
   "cell_type": "code",
   "execution_count": 34,
   "metadata": {},
   "outputs": [
    {
     "name": "stdout",
     "output_type": "stream",
     "text": [
      "D:\\Program Files\\Anaconda3\\lib\\site-packages\\ipykernel_launcher.py\n",
      "-f\n",
      "C:\\Users\\John\\AppData\\Roaming\\jupyter\\runtime\\kernel-8ab241ab-758f-46fe-9292-c9579910da20.json\n"
     ]
    }
   ],
   "source": [
    "# Example (Save as argument.py)\n",
    "import sys               \n",
    "for eachArg in sys.argv:  \n",
    "        print(eachArg)\n",
    "\n",
    "# To Call this: python argumente.py python course for beginners\n"
   ]
  },
  {
   "cell_type": "markdown",
   "metadata": {},
   "source": [
    "# Function Parameters\n",
    "When you define an input with an \"*\" you can be expandable number of variables."
   ]
  },
  {
   "cell_type": "code",
   "execution_count": 36,
   "metadata": {},
   "outputs": [
    {
     "data": {
      "text/plain": [
       "2.5"
      ]
     },
     "execution_count": 36,
     "metadata": {},
     "output_type": "execute_result"
    }
   ],
   "source": [
    "def arithmetic_mean(*l):\n",
    "    \"\"\" The function calculates the arithmetic mean of a non-empty\n",
    "        arbitrary number of numbers \"\"\"\n",
    "    sum = 0\n",
    "    for i in l:\n",
    "        sum += i\n",
    "    return sum / (1.0 + len(l))\n",
    "\n",
    "arithmetic_mean(1,2,3,4,5)"
   ]
  },
  {
   "cell_type": "markdown",
   "metadata": {},
   "source": [
    "## Variable Length of Parameters\n",
    "You can define a function with an arbitrary number of parameters too:\n",
    "\n",
    "You can define functions that take in a variable number of parameters.  Use the *variable declare.\n",
    "def varpafu(*x): print(x)"
   ]
  },
  {
   "cell_type": "code",
   "execution_count": 37,
   "metadata": {},
   "outputs": [
    {
     "name": "stdout",
     "output_type": "stream",
     "text": [
      "('hello', 'hello', 'hello')\n",
      "{}\n",
      "{'de': 'German', 'en': 'English', 'fr': 'French'}\n"
     ]
    }
   ],
   "source": [
    "def varpafu(*x): print(x)\n",
    "\n",
    "varpafu(\"hello\", \"hello\", \"hello\")\n",
    "\n",
    "def f(**args):\n",
    "    print(args)\n",
    "f()\n",
    "f(de=\"German\",en=\"English\",fr=\"French\")"
   ]
  },
  {
   "cell_type": "markdown",
   "metadata": {},
   "source": [
    "## Lambda\n",
    "Lambda is a way to create a small anonymous functions, functions without a name.  Mainly used in combination with filter(), map(), and reduce()\n",
    "\n",
    "### A Basic Example:"
   ]
  },
  {
   "cell_type": "code",
   "execution_count": 38,
   "metadata": {},
   "outputs": [
    {
     "name": "stdout",
     "output_type": "stream",
     "text": [
      "2\n"
     ]
    }
   ],
   "source": [
    "f = lambda x, y : x + y\n",
    "print(f(1,1)) #This performs x+y on inputs x and y.\n",
    "\n",
    "celsius = [39.2, 36.5, 37.3, 37.8]\n",
    "Farenheit = map(lambda x: (float(9)/5) * x + 32, celsius)"
   ]
  },
  {
   "cell_type": "markdown",
   "metadata": {},
   "source": [
    "## Map\n",
    "`map(func, seq)` - applies the function fun to all the elements of the sequence seq. Returns a new list with the elements changed by func.\n"
   ]
  },
  {
   "cell_type": "code",
   "execution_count": 39,
   "metadata": {},
   "outputs": [
    {
     "name": "stdout",
     "output_type": "stream",
     "text": [
      "<map object at 0x000001AD7DE363C8>\n",
      "<map object at 0x000001AD7DE360F0>\n"
     ]
    }
   ],
   "source": [
    "a = [1,2,3,4]\n",
    "b = [1,2,3,4]\n",
    "print(map(lambda x,y:x+y, a,b))\n",
    "print(map(lambda x,y:x+y+x**2+y**2, a,b))"
   ]
  },
  {
   "cell_type": "markdown",
   "metadata": {},
   "source": [
    "## Filtering\n",
    "`filter(function, list)` offers an elegant way to filter out elements of a list, for which the function returns True. function returns a bool.\n"
   ]
  },
  {
   "cell_type": "code",
   "execution_count": 40,
   "metadata": {
    "collapsed": true
   },
   "outputs": [],
   "source": [
    "fib = [0.1, 1, 2, 3, 4, 5, 8, 13, 21, 34, 55]\n",
    "result = filter(lambda x: x%2, fib) # x%2 returns a 0 or 1."
   ]
  },
  {
   "cell_type": "markdown",
   "metadata": {},
   "source": [
    "## Reduce\n",
    "**Only in Python2**  `reduce(fund, seq)` continually applies the function func to the sequence seq, it returns a single value."
   ]
  },
  {
   "cell_type": "code",
   "execution_count": 41,
   "metadata": {},
   "outputs": [
    {
     "ename": "NameError",
     "evalue": "name 'reduce' is not defined",
     "output_type": "error",
     "traceback": [
      "\u001b[1;31m---------------------------------------------------------------------------\u001b[0m",
      "\u001b[1;31mNameError\u001b[0m                                 Traceback (most recent call last)",
      "\u001b[1;32m<ipython-input-41-1f54c8313410>\u001b[0m in \u001b[0;36m<module>\u001b[1;34m()\u001b[0m\n\u001b[1;32m----> 1\u001b[1;33m \u001b[0mprint\u001b[0m\u001b[1;33m(\u001b[0m\u001b[0mreduce\u001b[0m\u001b[1;33m(\u001b[0m\u001b[1;32mlambda\u001b[0m \u001b[0mx\u001b[0m\u001b[1;33m,\u001b[0m\u001b[0my\u001b[0m\u001b[1;33m:\u001b[0m \u001b[0mx\u001b[0m\u001b[1;33m+\u001b[0m\u001b[0my\u001b[0m\u001b[1;33m,\u001b[0m \u001b[1;33m[\u001b[0m\u001b[1;36m1\u001b[0m\u001b[1;33m,\u001b[0m \u001b[1;36m2\u001b[0m\u001b[1;33m,\u001b[0m \u001b[1;36m3\u001b[0m\u001b[1;33m,\u001b[0m \u001b[1;36m4\u001b[0m\u001b[1;33m]\u001b[0m\u001b[1;33m)\u001b[0m\u001b[1;33m)\u001b[0m \u001b[1;31m# returns 10 because it sums up each element sequentially.\u001b[0m\u001b[1;33m\u001b[0m\u001b[0m\n\u001b[0m\u001b[0;32m      2\u001b[0m \u001b[0mprint\u001b[0m\u001b[1;33m(\u001b[0m\u001b[0mreduce\u001b[0m\u001b[1;33m(\u001b[0m\u001b[1;32mlambda\u001b[0m \u001b[0mx\u001b[0m\u001b[1;33m,\u001b[0m\u001b[0my\u001b[0m\u001b[1;33m:\u001b[0m \u001b[0mx\u001b[0m\u001b[1;33m^\u001b[0m\u001b[0my\u001b[0m\u001b[1;33m,\u001b[0m \u001b[1;33m[\u001b[0m\u001b[1;36m2\u001b[0m\u001b[1;33m,\u001b[0m \u001b[1;36m3\u001b[0m\u001b[1;33m,\u001b[0m \u001b[1;36m4\u001b[0m\u001b[1;33m,\u001b[0m \u001b[1;36m5\u001b[0m\u001b[1;33m]\u001b[0m\u001b[1;33m)\u001b[0m\u001b[1;33m)\u001b[0m \u001b[1;31m# Returns (((2^3)^4)^5)\u001b[0m\u001b[1;33m\u001b[0m\u001b[0m\n",
      "\u001b[1;31mNameError\u001b[0m: name 'reduce' is not defined"
     ]
    }
   ],
   "source": [
    "print(reduce(lambda x,y: x+y, [1, 2, 3, 4])) # returns 10 because it sums up each element sequentially.\n",
    "print(reduce(lambda x,y: x^y, [2, 3, 4, 5])) # Returns (((2^3)^4)^5)\n"
   ]
  },
  {
   "cell_type": "markdown",
   "metadata": {},
   "source": [
    "# Generators\n",
    "**Python2** Generators are used in iteration.  They can be called repeatedly and iterate through an answer each tim they are called, unlike def functions that return the same thing every time. [Read more and read recursive here.](https://www.python-course.eu/generators.php)\n",
    "\n"
   ]
  },
  {
   "cell_type": "code",
   "execution_count": 42,
   "metadata": {},
   "outputs": [
    {
     "ename": "AttributeError",
     "evalue": "'generator' object has no attribute 'next'",
     "output_type": "error",
     "traceback": [
      "\u001b[1;31m---------------------------------------------------------------------------\u001b[0m",
      "\u001b[1;31mAttributeError\u001b[0m                            Traceback (most recent call last)",
      "\u001b[1;32m<ipython-input-42-294f6f3a6100>\u001b[0m in \u001b[0;36m<module>\u001b[1;34m()\u001b[0m\n\u001b[0;32m      7\u001b[0m \u001b[1;33m\u001b[0m\u001b[0m\n\u001b[0;32m      8\u001b[0m \u001b[0mx\u001b[0m \u001b[1;33m=\u001b[0m \u001b[0mcity_generator\u001b[0m\u001b[1;33m(\u001b[0m\u001b[1;33m)\u001b[0m\u001b[1;33m\u001b[0m\u001b[0m\n\u001b[1;32m----> 9\u001b[1;33m \u001b[0mprint\u001b[0m\u001b[1;33m(\u001b[0m\u001b[0mx\u001b[0m\u001b[1;33m.\u001b[0m\u001b[0mnext\u001b[0m\u001b[1;33m(\u001b[0m\u001b[1;33m)\u001b[0m\u001b[1;33m)\u001b[0m\u001b[1;33m\u001b[0m\u001b[0m\n\u001b[0m\u001b[0;32m     10\u001b[0m \u001b[0mprint\u001b[0m\u001b[1;33m(\u001b[0m\u001b[0mx\u001b[0m\u001b[1;33m.\u001b[0m\u001b[0mnext\u001b[0m\u001b[1;33m(\u001b[0m\u001b[1;33m)\u001b[0m\u001b[1;33m)\u001b[0m\u001b[1;33m\u001b[0m\u001b[0m\n\u001b[0;32m     11\u001b[0m \u001b[0mprint\u001b[0m\u001b[1;33m(\u001b[0m\u001b[0mx\u001b[0m\u001b[1;33m.\u001b[0m\u001b[0mnext\u001b[0m\u001b[1;33m(\u001b[0m\u001b[1;33m)\u001b[0m\u001b[1;33m)\u001b[0m\u001b[1;33m\u001b[0m\u001b[0m\n",
      "\u001b[1;31mAttributeError\u001b[0m: 'generator' object has no attribute 'next'"
     ]
    }
   ],
   "source": [
    "# Example: \n",
    "def city_generator():\n",
    "    yield(\"Konstanz\")\n",
    "    yield(\"Zurich\")\n",
    "    yield(\"Schaffhausen\")\n",
    "    yield(\"Stuttgart\")\n",
    "\n",
    "x = city_generator()\n",
    "print(x.next())\n",
    "print(x.next())\n",
    "print(x.next())\n",
    "print(x.next())\n",
    "\n",
    "# Second example gives a list from 6 to 15:\n",
    "def math_function(a):\n",
    "    while True:\n",
    "        if(a > 15): return\n",
    "        yield(a)\n",
    "        a = a+1\n",
    "f = math_function(6)\n",
    "for x in f:\n",
    "    print(x)"
   ]
  },
  {
   "cell_type": "markdown",
   "metadata": {},
   "source": [
    "# List Comprehension\n",
    "List comprehension is a complete substitute for the lambda function as well as the functions `map(), filter()` and `reduce()`. For most people the syntax of list comprehension is easier to be grasped. \n",
    "\n",
    "You can do the same thing you did with lambdas with the following:\n"
   ]
  },
  {
   "cell_type": "code",
   "execution_count": 43,
   "metadata": {},
   "outputs": [
    {
     "name": "stdout",
     "output_type": "stream",
     "text": [
      "[102.56, 97.7, 99.14, 100.03999999999999]\n"
     ]
    }
   ],
   "source": [
    "Celsius = [39.2, 36.5, 37.3, 37.8]\n",
    "Fahrenheit = [ ((float(9)/5)*x + 32) for x in Celsius ]\n",
    "print(Fahrenheit)"
   ]
  },
  {
   "cell_type": "markdown",
   "metadata": {},
   "source": [
    "# Deep Copying\n",
    "When you copy one list, to another list i.e. a=b  you setup a pointer between the two.  If you change b, a changes.\n",
    "\n",
    "Here’s how the pointer works:"
   ]
  },
  {
   "cell_type": "code",
   "execution_count": 45,
   "metadata": {},
   "outputs": [
    {
     "name": "stdout",
     "output_type": "stream",
     "text": [
      "['red', 'blue']\n"
     ]
    }
   ],
   "source": [
    "colours1 = [\"red\", \"green\"]\n",
    "colours2 = colours1\n",
    "colours2[1] = \"blue\"\n",
    "print(colours1)\n",
    "# ['red', 'blue']"
   ]
  },
  {
   "cell_type": "markdown",
   "metadata": {},
   "source": [
    "Use a slice to copy over a static list with no sublists, but the sublists remain pointers.\n",
    "\n",
    "Use copy.deepcopy() to hard copy over data.  Or lst2 = deepcopy(lst1)"
   ]
  },
  {
   "cell_type": "markdown",
   "metadata": {},
   "source": [
    "# Files\n",
    "\n",
    "`poem = open(\"ad_lesbiam.txt\").read()\n",
    "fobj_out = open(\"ad_lesbiam2.txt\",\"w”)  # You can use a, w, r`\n",
    "\n",
    "## Pickling\n",
    "You can “Pickle” data, essentially saving it as it is, in data.  \"Pickling\" denotes the process which converts a Python object hierarchy into a byte stream, and \"unpickling\" on the other hand is the inverse operation, i.e. the byte stream is converted back into an object hierarchy. What we call pickling (and unpickling) is also known as \"serialization\" or \"flattening\" a data structure.\n",
    "\n",
    "`pickle.dump(obj, file[,protocol])`\n",
    "Where \"protocol\" can be:\n",
    "* 0=ascii\n",
    "* 1=compact (not human readable)\n",
    "* 2=optimised classes\n",
    "\n",
    "`pickle.load(f)`"
   ]
  },
  {
   "cell_type": "code",
   "execution_count": 47,
   "metadata": {},
   "outputs": [
    {
     "ename": "NameError",
     "evalue": "name 'data' is not defined",
     "output_type": "error",
     "traceback": [
      "\u001b[1;31m---------------------------------------------------------------------------\u001b[0m",
      "\u001b[1;31mNameError\u001b[0m                                 Traceback (most recent call last)",
      "\u001b[1;32m<ipython-input-47-e3f04978858d>\u001b[0m in \u001b[0;36m<module>\u001b[1;34m()\u001b[0m\n\u001b[0;32m      1\u001b[0m \u001b[1;32mimport\u001b[0m \u001b[0mpickle\u001b[0m                    \u001b[1;31m# imports the pickle class\u001b[0m\u001b[1;33m\u001b[0m\u001b[0m\n\u001b[0;32m      2\u001b[0m \u001b[0moutput\u001b[0m \u001b[1;33m=\u001b[0m \u001b[0mopen\u001b[0m\u001b[1;33m(\u001b[0m\u001b[1;34m'data.pkl'\u001b[0m\u001b[1;33m,\u001b[0m\u001b[1;34m'w'\u001b[0m\u001b[1;33m)\u001b[0m\u001b[1;33m\u001b[0m\u001b[0m\n\u001b[1;32m----> 3\u001b[1;33m \u001b[0mpickle\u001b[0m\u001b[1;33m.\u001b[0m\u001b[0mdump\u001b[0m\u001b[1;33m(\u001b[0m\u001b[0mdata\u001b[0m\u001b[1;33m,\u001b[0m \u001b[0moutput\u001b[0m\u001b[1;33m)\u001b[0m        \u001b[1;31m# pickle.dump pushes the data into a output (file)\u001b[0m\u001b[1;33m\u001b[0m\u001b[0m\n\u001b[0m\u001b[0;32m      4\u001b[0m \u001b[0mdata\u001b[0m \u001b[1;33m=\u001b[0m \u001b[0mpickle\u001b[0m\u001b[1;33m.\u001b[0m\u001b[0mload\u001b[0m\u001b[1;33m(\u001b[0m\u001b[0moutput\u001b[0m\u001b[1;33m)\u001b[0m       \u001b[1;31m# pickle.load opens up the data for reading\u001b[0m\u001b[1;33m\u001b[0m\u001b[0m\n",
      "\u001b[1;31mNameError\u001b[0m: name 'data' is not defined"
     ]
    }
   ],
   "source": [
    "import pickle                    # imports the pickle class\n",
    "output = open('data.pkl','w')\n",
    "pickle.dump(data, output)        # pickle.dump pushes the data into a output (file)\n",
    "data = pickle.load(output)       # pickle.load opens up the data for reading"
   ]
  },
  {
   "cell_type": "markdown",
   "metadata": {},
   "source": [
    "# Object Oriented Programming\n",
    "**Encapsulation of Data:**\n",
    "\n",
    "* Encapsulation is the method of restricting access to some of the class data.  Access to this data is controlled by getters and setters.\n",
    "* If an identifier doesn't start with an underscore character \"_\" it can be accessed from outside, i.e. the value can be read and changed. Data can be protected by making members private or protected. Instance variable names starting with two underscore characters cannot be accessed from outside of the class. At least not directly, but they can be accessed through private name mangling. \n",
    "\n",
    "Name       Notation       Behavior\n",
    "* name       Public         Can be accessed from inside and outside.  \n",
    "* _name      Protected      Like a public member, but shouldn’t be accessed from outside.\n",
    "* __name     Private        Can’t be seen and accessed from outside.\n",
    "\n",
    "**Inheritance:**\n",
    "\n",
    "* Classes can inherit other classes.  A class can inherit methods and attributes from other classes.\n",
    "\n",
    "**Constructor:**\n",
    "* the first code which is executed, when a new instance of a class is created.\n",
    "* Used to initialize variables for example at the start of a definition.\n",
    "\n",
    "`def __init__(self, holder, number, balance,credit_line=1500):\n",
    "    self.Holder = holder\n",
    "    self.Number = number\n",
    "    self.Balance = balance\n",
    "    self.CreditLine = credit_line`\n",
    "\n",
    "**Class Variables:**\n",
    "\n",
    "\t* Variables that are shared across all classes.\n",
    "\t* def __init__(self):\n",
    "\n",
    "            Account.counter += 1\n",
    "        # In the above code you can access Account.counter from any Account instance.\n",
    "\n",
    "**Destructor:**\n",
    "\n",
    "\t* It is called when the instance is about to be destroyed. If a base class has a __del__() method, the derived class's __del__() method, if any, must explicitly call it to ensure proper deletion of the base class part of the instance. \n",
    "`\n",
    "            class Greeting:\n",
    "                def __init__(self, name):\n",
    "                    self.name = name\n",
    "                def __del__(self):\n",
    "                    print \"Destructor started\"\n",
    "                def SayHello(self):\n",
    "                    print \"Hello\", self.name\n",
    "`"
   ]
  },
  {
   "cell_type": "code",
   "execution_count": 48,
   "metadata": {
    "collapsed": true
   },
   "outputs": [],
   "source": [
    "# The simplest class:\n",
    "class Account(object):\n",
    "        pass\n",
    "\n",
    "# A class with methods:\n",
    "class Account(object):\n",
    "    def transfer(self, target, amount):\n",
    "        pass\n",
    "    def deposit(self, amount):\n",
    "        pass\n",
    "    def withdraw(self, amount):\n",
    "        pass\n",
    "    def balance(self):\n",
    "        pass\n",
    "\n",
    "# An Inherited Class:\n",
    "class Counter(object):\n",
    "    number = 0\n",
    "    def __init__(self):\n",
    "        type(self).number += 1\n",
    "    def __del__(self):\n",
    "        type(self).number -= 1\n",
    "\n",
    "class Account(Counter):\n",
    "    def __init__(self,\n",
    "                 account_holder,       \n",
    "                 account_number,\n",
    "                 balance,\n",
    "                 account_current=1500):\n",
    "        Counter.__init__(self)\n"
   ]
  },
  {
   "cell_type": "markdown",
   "metadata": {},
   "source": [
    "# Regular Expressions\n",
    "[Link](https://www.python-course.eu/re_advanced.php)\n",
    "\n",
    "* Use import re to get regular expressions.\n",
    "* `re.search(expr,s)` checks a string s for an occurrence of a substring which matches the regular expression exp \n",
    "\n",
    "### Regular Expression Operators:\n",
    "\n",
    "* “.” - Any character.  Find all the words that end in “at”, use “.at” and it finds fat and cat.\n",
    "* [“ “] - Finds any class of character.  \n",
    "* [A-Za-z] - Find any upper case or lower case letters.\n",
    "* ^ - negates any choice.  For example, [^0-9] negates any NUMBER.  If it’s not the first character in an open bracket, it just means the character it is.\n",
    "* re.match() - Searches the beginning of a string for something.  Does it start with this string? re.match(r\"M[ae][iy]er\", s1)\n",
    "\n",
    "\n",
    "### Regex operations:\n",
    "`re.findall(pattern, string[, flags])`  - findall returns all non-overlapping matches of pattern in string, as a list of strings. \n",
    "\n",
    "### String Splitting:  \n",
    "\n",
    "`str.split([sep[, maxsplit]]) \n",
    "re.sub(regex, replacement, subject)`\n"
   ]
  },
  {
   "cell_type": "markdown",
   "metadata": {},
   "source": [
    "# VirtualEnvs: Virtual Environments\n",
    "\n",
    "[Link](https://realpython.com/blog/python/python-virtual-environments-a-primer/)\n",
    "\n",
    "* Your computer stores packages and libraries in different places.\n",
    "* For Machine Based packages, this isn’t a big deal.\n",
    "* Problems arise when you have different library versions for different projects.\n",
    "* Each project can have its own dependencies regardless of what other projects have.\n",
    "\n",
    "## Setup:\n",
    "install virtualenv, and create a directory for it.  Then create the virtual environment.\n",
    "\n",
    "    `pip install virtualenv`\n",
    "\n",
    "    `mkdir python-virtual-environments && cd python-virtual-environments`\n",
    "\n",
    "    `pyvenv env`\n",
    "\n",
    "Activate your environment:\n",
    "    `source env/bin/activate`\n",
    "\n",
    "The virtual environment works by changing the path of Python.  \n",
    "\n",
    "You can manage the virtual environments with virtualenvwrapper\n",
    "`pip install virtualenvwrapper`\n"
   ]
  },
  {
   "cell_type": "markdown",
   "metadata": {},
   "source": [
    "# Requests\n",
    "\n",
    "Gets website info.  "
   ]
  },
  {
   "cell_type": "code",
   "execution_count": 53,
   "metadata": {},
   "outputs": [
    {
     "ename": "TypeError",
     "evalue": "'bytes' object is not callable",
     "output_type": "error",
     "traceback": [
      "\u001b[1;31m---------------------------------------------------------------------------\u001b[0m",
      "\u001b[1;31mTypeError\u001b[0m                                 Traceback (most recent call last)",
      "\u001b[1;32m<ipython-input-53-1f20f2fe57e3>\u001b[0m in \u001b[0;36m<module>\u001b[1;34m()\u001b[0m\n\u001b[0;32m      1\u001b[0m \u001b[1;32mimport\u001b[0m \u001b[0mrequests\u001b[0m\u001b[1;33m\u001b[0m\u001b[0m\n\u001b[0;32m      2\u001b[0m \u001b[0mr\u001b[0m \u001b[1;33m=\u001b[0m \u001b[0mrequests\u001b[0m\u001b[1;33m.\u001b[0m\u001b[0mget\u001b[0m\u001b[1;33m(\u001b[0m\u001b[1;34m\"http://google.com\"\u001b[0m\u001b[1;33m)\u001b[0m\u001b[1;33m\u001b[0m\u001b[0m\n\u001b[1;32m----> 3\u001b[1;33m \u001b[0mr\u001b[0m\u001b[1;33m.\u001b[0m\u001b[0mcontent\u001b[0m\u001b[1;33m(\u001b[0m\u001b[1;33m)\u001b[0m \u001b[1;31m# returns the html code.\u001b[0m\u001b[1;33m\u001b[0m\u001b[0m\n\u001b[0m\u001b[0;32m      4\u001b[0m \u001b[0mr\u001b[0m\u001b[1;33m.\u001b[0m\u001b[0mheaders\u001b[0m\u001b[1;33m(\u001b[0m\u001b[1;33m)\u001b[0m \u001b[1;31m# returns a dict object with the headers.\u001b[0m\u001b[1;33m\u001b[0m\u001b[0m\n\u001b[0;32m      5\u001b[0m \u001b[1;33m\u001b[0m\u001b[0m\n",
      "\u001b[1;31mTypeError\u001b[0m: 'bytes' object is not callable"
     ]
    }
   ],
   "source": [
    "import requests\n",
    "r = requests.get(\"http://google.com\")\n",
    "r.content() # returns the html code.\n",
    "r.headers() # returns a dict object with the headers.\n",
    "\n",
    "r = requests.get(url, params=payload)\n"
   ]
  },
  {
   "cell_type": "markdown",
   "metadata": {},
   "source": [
    "# Create Binaries!\n",
    "\n",
    "py2exe - for Windows\n",
    "bbfreeze - for linux and windows\n",
    "cx_freeze - creates binaries for all three platforms.\n",
    "\n",
    "Create an installer:\n",
    "\n",
    "\t1. GUI2Exe\n",
    "\t2. Use Inno Setup to make the installer\n"
   ]
  },
  {
   "cell_type": "markdown",
   "metadata": {},
   "source": [
    "# Benchmarking Code\n",
    "\n",
    "* time module\n",
    "* line_profiler module    - Profiles each line and the time it takes to run.\n",
    "* cProfile module"
   ]
  },
  {
   "cell_type": "markdown",
   "metadata": {},
   "source": [
    "# Web Scraping\n",
    "\n",
    "Various projects that will help with webscraping and other web based tasks.\n",
    "\n",
    "* beautiful soup\n",
    "* scrapy\n",
    "* Reddit - praw\n",
    "* wikipedia "
   ]
  },
  {
   "cell_type": "code",
   "execution_count": null,
   "metadata": {
    "collapsed": true
   },
   "outputs": [],
   "source": []
  }
 ],
 "metadata": {
  "kernelspec": {
   "display_name": "Python 3",
   "language": "python",
   "name": "python3"
  },
  "language_info": {
   "codemirror_mode": {
    "name": "ipython",
    "version": 3
   },
   "file_extension": ".py",
   "mimetype": "text/x-python",
   "name": "python",
   "nbconvert_exporter": "python",
   "pygments_lexer": "ipython3",
   "version": "3.6.3"
  }
 },
 "nbformat": 4,
 "nbformat_minor": 2
}
